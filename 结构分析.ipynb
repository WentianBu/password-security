{
 "cells": [
  {
   "cell_type": "code",
   "execution_count": 1,
   "metadata": {},
   "outputs": [],
   "source": [
    "import pandas as pd\n",
    "import re\n",
    "import multiprocessing"
   ]
  },
  {
   "cell_type": "code",
   "execution_count": null,
   "metadata": {},
   "outputs": [],
   "source": [
    "# yahoo_data=pd.read_csv('yahoo.csv',names=['name','passwd'])\n",
    "# csdn_data=pd.read_csv('csdn.csv',error_bad_lines=False,names=['name','email','passwd'])"
   ]
  },
  {
   "cell_type": "code",
   "execution_count": 2,
   "metadata": {},
   "outputs": [],
   "source": [
    "# 删除所有有空值的行\n",
    "# csdn_data.dropna(inplace=True)"
   ]
  },
  {
   "cell_type": "code",
   "execution_count": null,
   "metadata": {},
   "outputs": [],
   "source": [
    "# lds 是一个全局变量，存储<密码格式，密码格式出现的次数>，这一个键值对\n",
    "#char_dic 也是一个全局变量，他存储每一个字符出现的次数，这一个键值对\n",
    "# lds_csdn={}\n",
    "# lds_yahoo={}\n",
    "# char_dic_csdn={}\n",
    "# char_dic_yahoo={}"
   ]
  },
  {
   "cell_type": "code",
   "execution_count": 2,
   "metadata": {},
   "outputs": [],
   "source": [
    "def passwd_to_lds_cols(passwd,char_dic):\n",
    "    '''\n",
    "       处理每一个密码，得到他的格式，然将这个格式封装成list\n",
    "       如密码：KIC43dk6!\n",
    "       经过处理后返回结果为：['l', 'l', 'l', 'd', 'd', 'l', 'l', 'd', 's']\n",
    "    '''\n",
    "    l_count=0\n",
    "    d_count=0\n",
    "    s_count=0\n",
    "\n",
    "    re_l='[a-zA-Z]'\n",
    "    re_d='[0-9]'\n",
    "    # res={}\n",
    "    col=[]\n",
    "    for i in range (len(passwd)):\n",
    "        temp=passwd[i]\n",
    "        # print[temp]\n",
    "        if re.match(re_l,temp):\n",
    "            l_count+=1\n",
    "            col.append('l')\n",
    "\n",
    "           \n",
    "        elif re.match(re_d,temp):\n",
    "            d_count+=1\n",
    "            col.append('d')\n",
    "        else:\n",
    "            s_count+=1\n",
    "            col.append('s')\n",
    "\n",
    "        # 统计每一个字符出现的次数\n",
    "        if passwd[i] not in char_dic:\n",
    "            char_dic[passwd[i]]=1\n",
    "        else:\n",
    "            char_dic[passwd[i]]+=1\n",
    "    return col\n"
   ]
  },
  {
   "cell_type": "code",
   "execution_count": 3,
   "metadata": {},
   "outputs": [],
   "source": [
    "def lds_cols_format(lds_cols):\n",
    "    '''\n",
    "        这个是将passwd_to_lds_cols处理密码得到的list进行格式化，得到一个密码格式的字符串\n",
    "        如输入的：['l', 'l', 'l', 'd', 'd', 'l', 'l', 'd', 's']\n",
    "        经过处理后为：l3d2l2d1s1\n",
    "    '''\n",
    "    res=[]\n",
    "    count=0\n",
    "    lds_temp=lds_cols.copy()\n",
    "    # 最后一个处理不到，所以添加一个空格，来时处理到源字符串的最后一个\n",
    "    lds_temp.append(' ')\n",
    "    first=lds_temp[0]\n",
    "    for i in range(len(lds_temp)):\n",
    "        if lds_temp[i]==first:\n",
    "            count+=1\n",
    "            first=lds_temp[i]\n",
    "            continue\n",
    "        else:\n",
    "            if i==len(lds_temp):\n",
    "\n",
    "                pass\n",
    "            temp=first+str(count)\n",
    "            res.append(temp)\n",
    "            first=lds_temp[i]\n",
    "\n",
    "            count=1\n",
    "    # 数据拼接\n",
    "    r=''.join(res)\n",
    "\n",
    "            \n",
    "    return r"
   ]
  },
  {
   "cell_type": "code",
   "execution_count": 4,
   "metadata": {},
   "outputs": [],
   "source": [
    "# passwd_csdn=csdn_data.passwd\n",
    "# passwd_yahoo=yahoo_data.pa\n"
   ]
  },
  {
   "cell_type": "code",
   "execution_count": 4,
   "metadata": {},
   "outputs": [],
   "source": [
    "def precoss_passwd(passwd,lds,char_dic):\n",
    "    # lenght 这个变量是可有可无的\n",
    "    length=len(passwd)\n",
    "    for pwd in passwd:\n",
    "        temp=passwd_to_lds_cols(pwd,char_dic)\n",
    "        temp1=lds_cols_format(temp)\n",
    "        if temp1 not in lds:\n",
    "            lds[temp1]=1\n",
    "        else:\n",
    "            lds[temp1]+=1\n",
    "    return length"
   ]
  },
  {
   "cell_type": "code",
   "execution_count": 7,
   "metadata": {},
   "outputs": [],
   "source": [
    "def get_top10_of_dict(dict):\n",
    "    '''\n",
    "    获取前10的信息\n",
    "    '''\n",
    "    lds_sorted=sorted(dict.items(),key=lambda x :x[1],reverse=True)\n",
    "    return lds_sorted[:10]"
   ]
  },
  {
   "cell_type": "code",
   "execution_count": 12,
   "metadata": {},
   "outputs": [],
   "source": [
    "def main_proc():\n",
    "\n",
    "    print('start')\n",
    "    yahoo_data=pd.read_csv('yahoo.csv',names=['name','passwd',0,1,2,3])\n",
    "    csdn_data=pd.read_csv('csdn.csv',error_bad_lines=False,names=['name','email','passwd'])\n",
    "    print(\"load data\")\n",
    "    # 对数据进行处理\n",
    "    yahoo_data.drop(columns=[0,1,2,3],axis=1,inplace=True)\n",
    "    csdn_data.dropna(inplace=True)\n",
    "    yahoo_data.dropna(inplace=True)\n",
    "\n",
    "\n",
    "    # 用来保存，数据集的密码格式和单词频率统计信息 \n",
    "    lds_csdn={}\n",
    "    lds_yahoo={}\n",
    "    char_dic_csdn={}\n",
    "    char_dic_yahoo={}\n",
    "   \n",
    "    passwd_csdn=csdn_data.passwd\n",
    "    passwd_yahoo=yahoo_data.passwd\n",
    "    print(passwd_yahoo.head())\n",
    "    print('handle passwd')\n",
    "    # 开两个进程 来处理含不同的数据源。\n",
    "    l1= precoss_passwd(passwd_csdn,lds_csdn,char_dic_csdn)\n",
    "    # p1=multiprocessing.Process(target=precoss_passwd,args=(passwd_csdn,lds_csdn,char_dic_csdn))\n",
    "    l2 =precoss_passwd(passwd_yahoo,lds_yahoo,char_dic_yahoo)\n",
    "    # p2=multiprocessing.Process(target=precoss_passwd,args=(passwd_yahoo,lds_yahoo,char_dic_yahoo))\n",
    "   \n",
    "    # p1.start()\n",
    "    # p2.start()\n",
    "    \n",
    "    # p1.join()\n",
    "    # p2.join()\n",
    "\n",
    "    print(l1)\n",
    "    print(l2)\n",
    "    # 得到经过处理过过后的排名前10的密码格式\n",
    "    lds_csdn_top10=get_top10_of_dict(lds_csdn)\n",
    "    lds_yahoo_top10=get_top10_of_dict(lds_yahoo)\n",
    "\n",
    "    print(lds_csdn_top10)\n",
    "    print('==============================')\n",
    "    print(lds_yahoo_top10)\n",
    "\n",
    "#    对lds进行处理，排序\n",
    "    "
   ]
  },
  {
   "cell_type": "code",
   "execution_count": 13,
   "metadata": {},
   "outputs": [
    {
     "name": "stdout",
     "output_type": "stream",
     "text": [
      "start\n"
     ]
    },
    {
     "name": "stderr",
     "output_type": "stream",
     "text": [
      "D:\\Anaconda3\\lib\\site-packages\\IPython\\core\\magic.py:187: DtypeWarning: Columns (3,4,5) have mixed types.Specify dtype option on import or set low_memory=False.\n",
      "  call = lambda f, *a, **k: f(*a, **k)\n"
     ]
    },
    {
     "name": "stdout",
     "output_type": "stream",
     "text": [
      "load data\n",
      "0    @fl!pm0de@\n",
      "1          pass\n",
      "2       steveol\n",
      "3        chotzi\n",
      "4        lb2512\n",
      "Name: passwd, dtype: object\n",
      "handle passwd\n",
      "6298242\n",
      "442807\n",
      "[('d8', 1352319), ('d9', 704226), ('l8', 307253), ('d11', 268536), ('d10', 235464), ('l3d6', 184199), ('l9', 166924), ('l2d6', 137564), ('l10', 129103), ('d12', 103780)]\n",
      "==============================\n",
      "[('l6', 42239), ('l8', 34286), ('l7', 30253), ('l6d2', 22290), ('l9', 16887), ('l8d2', 13339), ('l7d1', 11956), ('l7d2', 11293), ('l10', 10819), ('d6', 10075)]\n",
      "Wall time: 3min 11s\n"
     ]
    }
   ],
   "source": [
    "%%time\n",
    "main_proc()"
   ]
  },
  {
   "cell_type": "code",
   "execution_count": null,
   "metadata": {},
   "outputs": [],
   "source": [
    "# for pwd in passwd:\n",
    "#     temp=passwd_to_lds_cols(pwd)\n",
    "#     temp1=lds_cols_format(temp)\n",
    "#     if temp1 not in lds:\n",
    "#         lds[temp1]=1\n",
    "#     else:\n",
    "#         lds[temp1]+=1"
   ]
  },
  {
   "cell_type": "code",
   "execution_count": null,
   "metadata": {},
   "outputs": [],
   "source": [
    "# def format_dic_count(lds_formated_list):\n",
    "#     '''\n",
    "#         统计每一个密码格式串出现的次数\n",
    "#     '''\n",
    "#     for formated in lds_formated_list:\n",
    "#         if formated not in lds:\n",
    "#             lds[formated]=1\n",
    "#         else:\n",
    "#             lds[formated]+=1\n",
    "    \n",
    "\n"
   ]
  },
  {
   "cell_type": "code",
   "execution_count": 3,
   "metadata": {},
   "outputs": [
    {
     "name": "stderr",
     "output_type": "stream",
     "text": [
      "D:\\Anaconda3\\lib\\site-packages\\IPython\\core\\interactiveshell.py:3172: DtypeWarning: Columns (3,4,5) have mixed types.Specify dtype option on import or set low_memory=False.\n",
      "  has_raised = await self.run_ast_nodes(code_ast.body, cell_name,\n"
     ]
    },
    {
     "name": "stdout",
     "output_type": "stream",
     "text": [
      "load data\n"
     ]
    }
   ],
   "source": [
    "import pandas as pd\n",
    "yahoo_data=pd.read_csv('yahoo.csv',names=['name','passwd',0,1,2,3])\n",
    "csdn_data=pd.read_csv('csdn.csv',error_bad_lines=False,names=['name','email','passwd'])\n",
    "print(\"load data\")\n",
    "# 对数据进行处理\n",
    "yahoo_data.drop(columns=[0,1,2,3],axis=1,inplace=True)\n",
    "csdn_data.dropna(inplace=True)\n",
    "yahoo_data.dropna(inplace=True)\n",
    "csdn_data.to_csv('handled_scdn.csv',index=False)\n",
    "yahoo_data.to_csv('handled_yahoo.csv',index=False)\n"
   ]
  }
 ],
 "metadata": {
  "interpreter": {
   "hash": "a8f61be024eba58adef938c9aa1e29e02cb3dece83a5348b1a2dafd16a070453"
  },
  "kernelspec": {
   "display_name": "Python 3.8.8 64-bit ('base': conda)",
   "name": "python3"
  },
  "language_info": {
   "codemirror_mode": {
    "name": "ipython",
    "version": 3
   },
   "file_extension": ".py",
   "mimetype": "text/x-python",
   "name": "python",
   "nbconvert_exporter": "python",
   "pygments_lexer": "ipython3",
   "version": "3.8.8"
  },
  "orig_nbformat": 4
 },
 "nbformat": 4,
 "nbformat_minor": 2
}
